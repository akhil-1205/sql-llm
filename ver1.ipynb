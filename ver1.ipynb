{
 "cells": [
  {
   "cell_type": "code",
   "execution_count": 11,
   "id": "bf12b12e",
   "metadata": {},
   "outputs": [],
   "source": [
    "import os\n",
    "from dotenv import load_dotenv\n",
    "import mysql.connector"
   ]
  },
  {
   "cell_type": "code",
   "execution_count": 12,
   "id": "1d4b5d82",
   "metadata": {},
   "outputs": [],
   "source": [
    "# Load .env variables\n",
    "load_dotenv()\n",
    "\n",
    "# Get DB credentials from environment variables\n",
    "db_config = {\n",
    "    \"host\": os.getenv(\"MYSQL_HOST\"),\n",
    "    \"port\": int(os.getenv(\"MYSQL_PORT\", 3306)),  # default 3306 if not set\n",
    "    \"user\": os.getenv(\"MYSQL_USER\"),\n",
    "    \"password\": os.getenv(\"MYSQL_PASSWORD\"),\n",
    "    \"database\": os.getenv(\"MYSQL_DATABASE\")\n",
    "}"
   ]
  },
  {
   "cell_type": "markdown",
   "id": "1ea55d07",
   "metadata": {},
   "source": [
    "# Query"
   ]
  },
  {
   "cell_type": "code",
   "execution_count": 22,
   "id": "e994802f",
   "metadata": {},
   "outputs": [],
   "source": [
    "user_query = \"show all tables\""
   ]
  },
  {
   "cell_type": "code",
   "execution_count": 38,
   "id": "5d92acff",
   "metadata": {},
   "outputs": [],
   "source": [
    "database_schema = f\"\"\"\n",
    "-- ==========================\n",
    "-- 1. Table Definitions\n",
    "-- ==========================\n",
    "\n",
    "-- Doctor Table\n",
    "CREATE TABLE Doctor (\n",
    "    AadharID CHAR(12) PRIMARY KEY,\n",
    "    Name VARCHAR(100),\n",
    "    Specialty VARCHAR(100),\n",
    "    YearsOfExperience INT\n",
    ");\n",
    "\n",
    "-- Patient Table\n",
    "CREATE TABLE Patient (\n",
    "    AadharID CHAR(12) PRIMARY KEY,\n",
    "    Name VARCHAR(100),\n",
    "    Address VARCHAR(200),\n",
    "    BirthDate DATE,\n",
    "    PrimaryPhysicianID CHAR(12),\n",
    "    FOREIGN KEY (PrimaryPhysicianID) REFERENCES Doctor(AadharID)\n",
    ");\n",
    "\n",
    "-- PharmaceuticalCompany Table\n",
    "CREATE TABLE PharmaceuticalCompany (\n",
    "    Name VARCHAR(100) PRIMARY KEY,\n",
    "    PhoneNo VARCHAR(15)\n",
    ");\n",
    "\n",
    "-- Drug Table\n",
    "CREATE TABLE Drug (\n",
    "    TradeName VARCHAR(100),\n",
    "    Formula TEXT,\n",
    "    CompanyName VARCHAR(100),\n",
    "    PRIMARY KEY (TradeName, CompanyName),\n",
    "    FOREIGN KEY (CompanyName) REFERENCES PharmaceuticalCompany(Name) ON DELETE CASCADE\n",
    ");\n",
    "\n",
    "-- Pharmacy Table\n",
    "CREATE TABLE Pharmacy (\n",
    "    Name VARCHAR(100) PRIMARY KEY,\n",
    "    Address VARCHAR(200),\n",
    "    PhoneNo VARCHAR(15)\n",
    ");\n",
    "\n",
    "-- Sells Table\n",
    "CREATE TABLE Sells (\n",
    "    PharmacyName VARCHAR(100),\n",
    "    TradeName VARCHAR(100),\n",
    "    CompanyName VARCHAR(100),\n",
    "    Price DECIMAL(10,2),\n",
    "    PRIMARY KEY (PharmacyName, TradeName, CompanyName),\n",
    "    FOREIGN KEY (PharmacyName) REFERENCES Pharmacy(Name),\n",
    "    FOREIGN KEY (TradeName, CompanyName) REFERENCES Drug(TradeName, CompanyName)\n",
    ");\n",
    "\n",
    "-- Prescription Table\n",
    "CREATE TABLE Prescription (\n",
    "    DoctorID CHAR(12),\n",
    "    PatientID CHAR(12),\n",
    "    Date DATE,\n",
    "    PRIMARY KEY (DoctorID, PatientID, Date),\n",
    "    FOREIGN KEY (DoctorID) REFERENCES Doctor(AadharID),\n",
    "    FOREIGN KEY (PatientID) REFERENCES Patient(AadharID)\n",
    ");\n",
    "\n",
    "-- PrescriptionDrug Table\n",
    "CREATE TABLE PrescriptionDrug (\n",
    "    DoctorID CHAR(12),\n",
    "    PatientID CHAR(12),\n",
    "    Date DATE,\n",
    "    TradeName VARCHAR(100),\n",
    "    CompanyName VARCHAR(100),\n",
    "    Quantity INT,\n",
    "    PRIMARY KEY (DoctorID, PatientID, Date, TradeName, CompanyName),\n",
    "    FOREIGN KEY (DoctorID, PatientID, Date) REFERENCES Prescription(DoctorID, PatientID, Date),\n",
    "    FOREIGN KEY (TradeName, CompanyName) REFERENCES Drug(TradeName, CompanyName)\n",
    ");\n",
    "\n",
    "-- Contract Table\n",
    "CREATE TABLE Contract (\n",
    "    PharmaCompanyName VARCHAR(100),\n",
    "    PharmacyName VARCHAR(100),\n",
    "    StartDate DATE,\n",
    "    EndDate DATE,\n",
    "    Content TEXT,\n",
    "    SupervisorAadharID CHAR(12),\n",
    "    PRIMARY KEY (PharmaCompanyName, PharmacyName, StartDate),\n",
    "    FOREIGN KEY (PharmaCompanyName) REFERENCES PharmaceuticalCompany(Name),\n",
    "    FOREIGN KEY (PharmacyName) REFERENCES Pharmacy(Name),\n",
    "    FOREIGN KEY (SupervisorAadharID) REFERENCES Doctor(AadharID)\n",
    ");\n",
    "\n",
    "\n",
    "\"\"\""
   ]
  },
  {
   "cell_type": "code",
   "execution_count": 39,
   "id": "ab835630",
   "metadata": {},
   "outputs": [
    {
     "name": "stdout",
     "output_type": "stream",
     "text": [
      "<think>\n",
      "Okay, the user wants to \"show all tables\" from the database. Let me check the database schema provided.\n",
      "\n",
      "Looking at the tables, there are several tables listed: Doctor, Patient, PharmaceuticalCompany, Drug, Pharmacy, Sells, Prescription, PrescriptionDrug, and Contract. All of them are defined in the table definitions. \n",
      "\n",
      "The user's request is straightforward: they want to list all tables. In MySQL, to show all tables, you can use the SHOW TABLES statement. That's the standard way to get a list of tables in a database. \n",
      "\n",
      "I don't need to filter, sort, or aggregate anything here. The example given in the instructions doesn't require any of those, so just the SHOW TABLES query is needed. \n",
      "\n",
      "I should make sure there are no typos in the table names. The tables listed are all correct. So the SQL query should be SHOW TABLES FROM ... but since the user didn't specify a database, maybe it's implied, but the question says \"database\", so perhaps the default is the current one. However, the user didn't specify a database, so the query would be SHOW TABLES. \n",
      "\n",
      "Wait, in MySQL, the SHOW TABLES statement is used to list all tables in the database. So the correct query is SHOW TABLES. There's no need for filtering, sorting, or aggregation. Therefore, the answer is simply that query.\n",
      "</think>\n",
      "\n",
      "SHOW TABLES\n"
     ]
    }
   ],
   "source": [
    "import ollama\n",
    "\n",
    "prompt = f\"\"\"\n",
    "You are an expert SQL query generator. Given a natural language request about data from the database, write a valid MySQL SQL query that answers the request.\n",
    "\n",
    "Instructions:  \n",
    "- Only generate SELECT, SHOW and USE queries unless otherwise specified.  \n",
    "- Use proper SQL syntax for MySQL.  \n",
    "- Make sure to handle filtering, sorting, and aggregation as per the request.  \n",
    "- If the request is ambiguous, ask for clarification or make a reasonable assumption.  \n",
    "- Don't include explanations, only output the SQL query.\n",
    "\n",
    "Example input:  \n",
    "\"Show me the names and emails of users who signed up after January 1, 2023.\"\n",
    "\n",
    "Expected output:  \n",
    "SELECT name, email FROM users WHERE signup_date > '2023-01-01';\n",
    "\n",
    "Database scheme is also provided to make a better analysis of the user's needs.\n",
    "Database schema: {database_schema}\n",
    "\n",
    "The user's query: {user_query}\n",
    "\n",
    "\"\"\"\n",
    "\n",
    "response = ollama.chat(\n",
    "    model='qwen3:0.6b',\n",
    "    messages=[{'role': 'user', 'content': prompt}]\n",
    ")\n",
    "\n",
    "print(response['message']['content'])"
   ]
  },
  {
   "cell_type": "code",
   "execution_count": 25,
   "id": "174a9922",
   "metadata": {},
   "outputs": [
    {
     "name": "stdout",
     "output_type": "stream",
     "text": [
      "SHOW TABLES;\n"
     ]
    }
   ],
   "source": [
    "## cleaning \n",
    "import re\n",
    "\n",
    "raw_content = response['message']['content']\n",
    "\n",
    "# Remove all <think>...</think> tags and their content\n",
    "clean_content = re.sub(r'<think>.*?</think>', '', raw_content, flags=re.DOTALL)\n",
    "\n",
    "clean_content = clean_content.strip()\n",
    "\n",
    "generated_query = clean_content\n",
    "print(generated_query)"
   ]
  },
  {
   "cell_type": "code",
   "execution_count": 34,
   "id": "f622b96a",
   "metadata": {},
   "outputs": [
    {
     "name": "stdout",
     "output_type": "stream",
     "text": [
      "Connected to MySQL database!\n",
      "\n",
      "('Amoxicillin', 'C16H19N3O5S', 'PharmaY')\n",
      "('Drug1', 'F1', 'PharmaX')\n",
      "('Drug2', 'F2', 'PharmaX')\n",
      "('Drug3', 'F3', 'PharmaX')\n",
      "('Drug4', 'F4', 'PharmaX')\n",
      "('Drug5', 'F5', 'PharmaX')\n",
      "('Drug6', 'F6', 'PharmaX')\n",
      "('Drug7', 'F7', 'PharmaX')\n",
      "('Ibuprofen', 'C13H18O2', 'PharmaX')\n",
      "('Paracetamol', 'C8H9NO2', 'PharmaX')\n"
     ]
    }
   ],
   "source": [
    "# Connect to MySQL\n",
    "try:\n",
    "    conn = mysql.connector.connect(**db_config)\n",
    "    print(\"Connected to MySQL database!\\n\")\n",
    "\n",
    "    cursor = conn.cursor()\n",
    "\n",
    "    # Example query\n",
    "    cursor.execute(generated_query)\n",
    "    results = cursor.fetchall()\n",
    "    for row in results:\n",
    "        print(row)\n",
    "\n",
    "    cursor.close()\n",
    "    conn.close()\n",
    "\n",
    "except mysql.connector.Error as err:\n",
    "    print(\"Error:\", err)\n"
   ]
  },
  {
   "cell_type": "code",
   "execution_count": 37,
   "id": "317fb0c3",
   "metadata": {},
   "outputs": [
    {
     "name": "stdout",
     "output_type": "stream",
     "text": [
      "[('Amoxicillin', 'C16H19N3O5S', 'PharmaY'), ('Drug1', 'F1', 'PharmaX'), ('Drug2', 'F2', 'PharmaX'), ('Drug3', 'F3', 'PharmaX'), ('Drug4', 'F4', 'PharmaX'), ('Drug5', 'F5', 'PharmaX'), ('Drug6', 'F6', 'PharmaX'), ('Drug7', 'F7', 'PharmaX'), ('Ibuprofen', 'C13H18O2', 'PharmaX'), ('Paracetamol', 'C8H9NO2', 'PharmaX')]\n"
     ]
    }
   ],
   "source": [
    "print(results)"
   ]
  }
 ],
 "metadata": {
  "kernelspec": {
   "display_name": "venv",
   "language": "python",
   "name": "python3"
  },
  "language_info": {
   "codemirror_mode": {
    "name": "ipython",
    "version": 3
   },
   "file_extension": ".py",
   "mimetype": "text/x-python",
   "name": "python",
   "nbconvert_exporter": "python",
   "pygments_lexer": "ipython3",
   "version": "3.12.3"
  }
 },
 "nbformat": 4,
 "nbformat_minor": 5
}
